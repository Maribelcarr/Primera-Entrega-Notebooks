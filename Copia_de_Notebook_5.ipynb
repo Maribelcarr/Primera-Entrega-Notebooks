{
  "nbformat": 4,
  "nbformat_minor": 0,
  "metadata": {
    "kernelspec": {
      "display_name": "Python 3",
      "language": "python",
      "name": "python3"
    },
    "language_info": {
      "codemirror_mode": {
        "name": "ipython",
        "version": 3
      },
      "file_extension": ".py",
      "mimetype": "text/x-python",
      "name": "python",
      "nbconvert_exporter": "python",
      "pygments_lexer": "ipython3",
      "version": "3.7.3"
    },
    "colab": {
      "provenance": []
    }
  },
  "cells": [
    {
      "cell_type": "markdown",
      "metadata": {
        "id": "Gp2WddtV9IwG"
      },
      "source": [
        "# Programa Ingenias+ Data Science"
      ]
    },
    {
      "cell_type": "markdown",
      "metadata": {
        "id": "H4M1yVbf9IwH"
      },
      "source": [
        "Como dijimos en clases anteriores, Python tiene implementadas muchas librerias para poder trabajar con datos. En la clase de hoy trabajaremos con una de ellas: `Numpy`."
      ]
    },
    {
      "cell_type": "markdown",
      "metadata": {
        "id": "GdTT8WeL9IwI"
      },
      "source": [
        "Antes de comenzar, vamos a hablar un poco de esta libreria o modulo.\n",
        "\n",
        "**Numpy** es una librería optimizada para realizar cálculos numéricos con vectores y matrices. A diferencia de otros lenguajes de programación, Python no posee en su estructura central la figura de matrices. Eso quiere decir que para poder trabajar con esta estructura de datos deberiamos trabajar con listas de listas. NumPy introduce el concepto de arrays o matrices."
      ]
    },
    {
      "cell_type": "markdown",
      "metadata": {
        "id": "qWkq3EHK9IwK"
      },
      "source": [
        "Al ser de código abierto, `numpy` posee una documentación muy amplia que es **SIEMPRE RECOMENDABLE** consultar."
      ]
    },
    {
      "cell_type": "markdown",
      "metadata": {
        "id": "nxe3KLUO9IwL"
      },
      "source": [
        "- [Documentacion NumPy](https://devdocs.io/numpy/)"
      ]
    },
    {
      "cell_type": "markdown",
      "metadata": {
        "id": "l1Ay3nSs9IwN"
      },
      "source": [
        "## Clase 4: Introduccion a NumPy"
      ]
    },
    {
      "cell_type": "markdown",
      "metadata": {
        "id": "X03mviQS9IyL"
      },
      "source": [
        "# Ejercicios\n",
        "\n",
        "1. Crear un arreglo de ceros de longitud 12\n",
        "2. Crear un arreglo de longitud 10 con ceros en todas sus posiciones y un 10 en la posición número 5\n",
        "3. Crear un arreglo que tenga los números del 10 al 49\n",
        "4. Crear una arreglo 2d de shape (3, 3) que tenga los números del 0 al 8\n",
        "5. Crear un arreglo de números aleatorios de longitud 100 y obtener su media y varianza\n",
        "6. Calcular la media de un arreglo usando np.sum\n",
        "7. Calcular la varianza de un arreglo usando np.sum y np.mean\n",
        "8. Crear un array de números aleatorios usando np.random.randn.\n"
      ]
    },
    {
      "cell_type": "code",
      "metadata": {
        "id": "G0NMKT609IyM",
        "outputId": "ac427996-fa26-44f7-c8c8-41e8f78bea80",
        "colab": {
          "base_uri": "https://localhost:8080/"
        }
      },
      "source": [
        "import numpy as np\n",
        "nuevo_array=np.zeros(12)\n",
        "print(nuevo_array)"
      ],
      "execution_count": null,
      "outputs": [
        {
          "output_type": "stream",
          "name": "stdout",
          "text": [
            "[0. 0. 0. 0. 0. 0. 0. 0. 0. 0. 0. 0.]\n"
          ]
        }
      ]
    },
    {
      "cell_type": "code",
      "source": [
        "import numpy as np\n",
        "array2=np.zeros(10)\n",
        "array2[4]=10\n",
        "print(array2)"
      ],
      "metadata": {
        "id": "xuD6yIByFWZx",
        "outputId": "eaaeed6d-c46f-4994-e7d9-2a1c6fd3dcca",
        "colab": {
          "base_uri": "https://localhost:8080/"
        }
      },
      "execution_count": null,
      "outputs": [
        {
          "output_type": "stream",
          "name": "stdout",
          "text": [
            "[ 0.  0.  0.  0. 10.  0.  0.  0.  0.  0.]\n"
          ]
        }
      ]
    },
    {
      "cell_type": "code",
      "source": [
        "import numpy as np\n",
        "array3=np.arange(10,50)\n",
        "print(array3)"
      ],
      "metadata": {
        "colab": {
          "base_uri": "https://localhost:8080/"
        },
        "id": "alyjvqwuGWdE",
        "outputId": "38734141-3974-48c7-fa1c-e01a288464e3"
      },
      "execution_count": null,
      "outputs": [
        {
          "output_type": "stream",
          "name": "stdout",
          "text": [
            "[10 11 12 13 14 15 16 17 18 19 20 21 22 23 24 25 26 27 28 29 30 31 32 33\n",
            " 34 35 36 37 38 39 40 41 42 43 44 45 46 47 48 49]\n"
          ]
        }
      ]
    },
    {
      "cell_type": "code",
      "source": [
        "import numpy as np\n",
        "lista=[[0,1,2], [3,4,5],[6,7,8]]\n",
        "array2d=np.array(lista)\n",
        "print(array2d)"
      ],
      "metadata": {
        "colab": {
          "base_uri": "https://localhost:8080/"
        },
        "id": "410cUPxeI11J",
        "outputId": "af0977fc-2cba-476e-f754-6c986fb99c4f"
      },
      "execution_count": null,
      "outputs": [
        {
          "output_type": "stream",
          "name": "stdout",
          "text": [
            "[[0 1 2]\n",
            " [3 4 5]\n",
            " [6 7 8]]\n"
          ]
        }
      ]
    },
    {
      "cell_type": "code",
      "source": [],
      "metadata": {
        "id": "E2tlY0shGTnG"
      },
      "execution_count": null,
      "outputs": []
    },
    {
      "cell_type": "code",
      "source": [
        "import numpy as np\n",
        "array_aleatorio=np.random.rand(100)\n",
        "media= np.mean(array_aleatorio)\n",
        "varianza=np.var(array_aleatorio)\n",
        "print(varianza)"
      ],
      "metadata": {
        "id": "gXvbph3XMUna",
        "colab": {
          "base_uri": "https://localhost:8080/"
        },
        "outputId": "502fe48b-17ca-4b3e-c0bb-fbce0a8d82d6"
      },
      "execution_count": null,
      "outputs": [
        {
          "output_type": "stream",
          "name": "stdout",
          "text": [
            "0.07627991129187037\n"
          ]
        }
      ]
    },
    {
      "cell_type": "code",
      "source": [
        "array=np.array ([1,2,3,4,5])\n",
        "suma_total=np.sum(array)\n",
        "numero_elementos=array.size\n",
        "media= suma_total/numero_elementos\n",
        "print(media)"
      ],
      "metadata": {
        "colab": {
          "base_uri": "https://localhost:8080/"
        },
        "id": "XmHg7vpWOwXY",
        "outputId": "988800ed-8640-46c3-9d06-f3382d33bcf8"
      },
      "execution_count": null,
      "outputs": [
        {
          "output_type": "stream",
          "name": "stdout",
          "text": [
            "3.0\n"
          ]
        }
      ]
    },
    {
      "cell_type": "code",
      "source": [
        "print(np.random.rand(20))"
      ],
      "metadata": {
        "colab": {
          "base_uri": "https://localhost:8080/"
        },
        "id": "lfSNgm7_V76i",
        "outputId": "029a1445-40de-4102-da38-8492c5679578"
      },
      "execution_count": null,
      "outputs": [
        {
          "output_type": "stream",
          "name": "stdout",
          "text": [
            "[0.21906424 0.08909975 0.6666615  0.3702751  0.04055804 0.64475489\n",
            " 0.98967346 0.47349207 0.0859228  0.658887   0.0764031  0.91343726\n",
            " 0.04758183 0.8941504  0.81456204 0.24311776 0.84904889 0.44701719\n",
            " 0.30025347 0.06371915]\n"
          ]
        }
      ]
    }
  ]
}